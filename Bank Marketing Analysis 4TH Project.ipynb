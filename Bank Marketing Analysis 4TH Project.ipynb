{
 "cells": [
  {
   "cell_type": "markdown",
   "id": "8c64e62d",
   "metadata": {},
   "source": [
    "<p style=\"font-size:38px\"><span style=\"font-family:Times New Roman\"><b><span style=\"color:blue\"> Problem Statement</span></b></span></p>"
   ]
  },
  {
   "cell_type": "markdown",
   "id": "bf1b19f3",
   "metadata": {},
   "source": [
    "***"
   ]
  },
  {
   "cell_type": "markdown",
   "id": "39e7a47f",
   "metadata": {},
   "source": [
    "\n",
    "<p style=\"font-size:20px\"><span style=\"font-family:Times New Roman\"> This dataset describe Portugal bank marketing campaigns results. </span>.</p>\n",
    "\n",
    "<p style=\"font-size:20px\"><span style=\"font-family:Times New Roman\">The Conducted campaign were based mostly on direct phone calls, Persuading Potential customers to become new customers of the bank.</span>.</p>\n",
    "\n",
    "    \n",
    "<p style=\"font-size:20px\"><span style=\"font-family:Times New Roman\">The classification goal is to predict if the new customer will join the bank, then if the Potential customer agrees to become a customer of the bank, then the target variable is marked 'yes', otherwise 'no'</span>.</p>"
   ]
  },
  {
   "cell_type": "markdown",
   "id": "3cff937e",
   "metadata": {},
   "source": [
    " Source:[UCI IT](https://archive.ics.uci.edu/ml/datasets/bank+marketing)"
   ]
  },
  {
   "cell_type": "markdown",
   "id": "35b577bc",
   "metadata": {},
   "source": [
    "# <span style=\"font-family:Times New Roman\">About The Project</span>"
   ]
  },
  {
   "cell_type": "markdown",
   "id": "02e7f8c1",
   "metadata": {},
   "source": [
    "<p style=\"font-size:20px\"><span style=\"font-family:Times New Roman\"> In this project, I will analyze the Bank lead's dataset and create a classification algorithm with full end feature engineering and Exploratory Data Analysis (EDA). </span></p>\n",
    "\n",
    "<p style=\"font-size:20px\"><span style=\"font-family:Times New Roman\"><br> The first part we will deal with the description and visualization of the data analysed, and in the second we will go to the data classification models.  </span></p>"
   ]
  },
  {
   "cell_type": "markdown",
   "id": "6b9f08b9",
   "metadata": {},
   "source": [
    "# <span style=\"font-family:Times New Roman\"> Objectives of this project:</span>"
   ]
  },
  {
   "cell_type": "markdown",
   "id": "1a4b7c6c",
   "metadata": {},
   "source": [
    "\n",
    "<p style=\"font-size:20px\"><span style=\"font-family:Times New Roman\">*​  Predicting the future results of marketing companies based on available statistics and, accordingly, formulating recommendations for such companies in the future. </span></p>\n",
    "\n",
    "\n",
    "<p style=\"font-size:20px\"><span style=\"font-family:Times New Roman\">*​ Building a profile of a customer of banking services (New Customers) </span></p>\n",
    "\n",
    "\n",
    "<p style=\"font-size:20px\"><span style=\"font-family:Times New Roman\">*​ Make recommendations for future campaigns </span></p>\n",
    "\n",
    "<p style=\"font-size:20px\"><span style=\"font-family:Times New Roman\">*​ Performance Optimization: Using regularization, hyperparameter tuning, model. </span></p>\n"
   ]
  },
  {
   "cell_type": "markdown",
   "id": "2eb52344",
   "metadata": {},
   "source": [
    "# <span style=\"font-family:Times New Roman\"> Let's Prepare Our Data for Consumption</span>\n",
    "\n",
    "## <span style=\"font-family:Times New Roman\"> Import Libraries</span>\n",
    "\n",
    "\n"
   ]
  },
  {
   "cell_type": "markdown",
   "id": "9832aaad",
   "metadata": {},
   "source": [
    "<p style=\"font-size:20px\"><span style=\"font-family:Times New Roman\"> Let's import all necessary libraries for the analysis and along with it let's bring down our dataset</span>.</p>"
   ]
  },
  {
   "cell_type": "code",
   "execution_count": 1,
   "id": "00066c7e",
   "metadata": {},
   "outputs": [],
   "source": [
    "## Database Phase\n",
    "import pandas as pd\n",
    "import numpy as np\n",
    "\n",
    "\n",
    "# Machine Learning Phase\n",
    "import sklearn \n",
    "from sklearn.svm import SVC\n",
    "from sklearn.preprocessing import LabelEncoder\n",
    "from sklearn.preprocessing import StandardScaler\n",
    "from sklearn.preprocessing import MinMaxScaler\n",
    "from sklearn.ensemble import ExtraTreesClassifier\n",
    "from sklearn.pipeline import make_pipeline\n",
    "from sklearn.model_selection import GridSearchCV\n",
    "from sklearn.linear_model import LogisticRegression\n",
    "from sklearn.tree import DecisionTreeClassifier\n",
    "from sklearn.ensemble import RandomForestClassifier\n",
    "from sklearn.naive_bayes import BernoulliNB \n",
    "from sklearn.neighbors import KNeighborsClassifier\n",
    "from sklearn.svm import SVC\n",
    "from sklearn.pipeline import Pipeline\n",
    "from sklearn.model_selection import train_test_split\n",
    "\n",
    "#Metrics Phase\n",
    "from sklearn import metrics\n",
    "from sklearn.metrics import classification_report\n",
    "from sklearn.model_selection import cross_val_score\n",
    "from sklearn.metrics import accuracy_score\n",
    "\n",
    "#Visualization Phase\n",
    "import matplotlib.pyplot as plt\n",
    "import seaborn as sns\n",
    "import matplotlib as mpl\n",
    "import matplotlib.pylab as pylab\n",
    "%matplotlib inline\n",
    "pd.set_option('display.max_columns', 500)\n",
    "mpl.style.use('ggplot')\n",
    "sns.set_style('white')\n",
    "pylab.rcParams['figure.figsize'] = 12,8\n",
    "\n",
    "#ignore warnings\n",
    "import warnings\n",
    "warnings.filterwarnings('ignore')"
   ]
  },
  {
   "cell_type": "markdown",
   "id": "0c632e07",
   "metadata": {},
   "source": [
    "<p style=\"font-size:20px\"><span style=\"font-family:Times New Roman\"> Introduction To Our Data </span>.</p>"
   ]
  },
  {
   "cell_type": "markdown",
   "id": "b0ce5ae2",
   "metadata": {},
   "source": [
    "<p style=\"font-size:20px\"><span style=\"font-family:Times New Roman\"> We will be creating and getting our data info and we will welcome it.</span>.</p>"
   ]
  },
  {
   "cell_type": "code",
   "execution_count": 2,
   "id": "691f7ebc",
   "metadata": {},
   "outputs": [
    {
     "name": "stdout",
     "output_type": "stream",
     "text": [
      "The shape of the  data is (row, column):(45211, 17)\n",
      "<class 'pandas.core.frame.DataFrame'>\n",
      "RangeIndex: 45211 entries, 0 to 45210\n",
      "Data columns (total 17 columns):\n",
      " #   Column     Non-Null Count  Dtype \n",
      "---  ------     --------------  ----- \n",
      " 0   age        45211 non-null  int64 \n",
      " 1   job        45211 non-null  object\n",
      " 2   marital    45211 non-null  object\n",
      " 3   education  45211 non-null  object\n",
      " 4   default    45211 non-null  object\n",
      " 5   balance    45211 non-null  int64 \n",
      " 6   housing    45211 non-null  object\n",
      " 7   loan       45211 non-null  object\n",
      " 8   contact    45211 non-null  object\n",
      " 9   day        45211 non-null  int64 \n",
      " 10  month      45211 non-null  object\n",
      " 11  duration   45211 non-null  int64 \n",
      " 12  campaign   45211 non-null  int64 \n",
      " 13  pdays      45211 non-null  int64 \n",
      " 14  previous   45211 non-null  int64 \n",
      " 15  poutcome   45211 non-null  object\n",
      " 16  y          45211 non-null  object\n",
      "dtypes: int64(7), object(10)\n",
      "memory usage: 5.9+ MB\n",
      "None\n"
     ]
    }
   ],
   "source": [
    "bank=pd.read_csv('bank-full.csv',sep=';')\n",
    "bank_copy=bank.copy()\n",
    "\n",
    "## print shape of dataset with rows and columns and information \n",
    "print (\"The shape of the  data is (row, column):\"+ str(bank_copy.shape))\n",
    "print (bank_copy.info())"
   ]
  },
  {
   "cell_type": "markdown",
   "id": "57fd1092",
   "metadata": {},
   "source": [
    "# <span style=\"font-family:Times New Roman\">Data anaysis</span>"
   ]
  },
  {
   "cell_type": "markdown",
   "id": "0cdc127e",
   "metadata": {},
   "source": [
    "<p style=\"font-size:20px\"><span style=\"font-family:Times New Roman\">We have 45211 instances and 17 features.  anyway we will strictly scrutinize each feature and check for suspicious records and manipulate them.</span>.</p>"
   ]
  },
  {
   "cell_type": "markdown",
   "id": "cd345970",
   "metadata": {},
   "source": [
    "#  <span style=\"font-family:Times New Roman\">Attributes of New Customers</span>"
   ]
  },
  {
   "cell_type": "markdown",
   "id": "4a327481",
   "metadata": {},
   "source": [
    "<p style=\"font-size:20px\"><span style=\"font-family:Times New Roman\">* Age : Age of the lead (numer)</span></p>\n",
    "<p style=\"font-size:20px\"><span style=\"font-family:Times New Roman\">* Job : type of job (Categorical) </span></p>\n",
    "<p style=\"font-size:20px\"><span style=\"font-family:Times New Roman\">* Marital : Marital status (Categorical) </span></p>\n",
    "<p style=\"font-size:20px\"><span style=\"font-family:Times New Roman\">* Education : Educational Qualification of the lead (Categorical) </span></p>\n",
    "<p style=\"font-size:20px\"><span style=\"font-family:Times New Roman\">* Default: Does the lead has any default(unpaid)credit (Categorical) </span></p>\n",
    "<p style=\"font-size:20px\"><span style=\"font-family:Times New Roman\">* Housing: Does the lead has any housing loan? (Categorical) </span></p>\n",
    "<p style=\"font-size:20px\"><span style=\"font-family:Times New Roman\">* Loan: Does the lead has any personal loan? (Categorical) </span></p>\n",
    "    \n",
    "# <span style=\"font-family:Times New Roman\">Related with the last contact of the current campaign: </span>\n",
    "<p style=\"font-size:20px\"><span style=\"font-family:Times New Roman\">* Contact: Contact communication type (Categorical)</span></p>\n",
    "<p style=\"font-size:20px\"><span style=\"font-family:Times New Roman\">* Month: last contact month of year (Categorical) </span></p>\n",
    "<p style=\"font-size:20px\"><span style=\"font-family:Times New Roman\">* Day_of_week: last contact day of the week (categorical) </span></p>\n",
    "<p style=\"font-size:20px\"><span style=\"font-family:Times New Roman\">* Duration: last contact duration, in seconds (numeric). </span></p>\n",
    "\n",
    "\n",
    "# <span style=\"font-family:Times New Roman\">Important note: </span>\n",
    "<p style=\"font-size:20px\"><span style=\"font-family:Times New Roman\"> Duration highly affects the output target (e.g., if duration=0 then Y=NO).<br> Yet, the duration is not known before a call is performed. Also, after the end of the call Y is obviously known.</span>.</p>\n",
    "\n",
    "# <span style=\"font-family:Times New Roman\">Output variable (Desired target)</span>\n",
    "<p style=\"font-size:20px\"><span style=\"font-family:Times New Roman\"><span style=\"color:blue\">Y </span>= <span style=\"color:orange\">Will the person become a new customer?</span> (Binary: <span style=\"color:green\">Yes</span><span style=\"color:black\">/<span><span style=\"color:Red\">No<span>) </span></p>\n",
    "\n",
    "  "
   ]
  },
  {
   "cell_type": "markdown",
   "id": "916f627f",
   "metadata": {},
   "source": [
    "***"
   ]
  },
  {
   "cell_type": "markdown",
   "id": "8cbc1dc2",
   "metadata": {},
   "source": [
    "# <span style=\"font-family:Times New Roman\">Imported Data</span>"
   ]
  },
  {
   "cell_type": "code",
   "execution_count": 3,
   "id": "e2487626",
   "metadata": {},
   "outputs": [
    {
     "data": {
      "text/html": [
       "<div>\n",
       "<style scoped>\n",
       "    .dataframe tbody tr th:only-of-type {\n",
       "        vertical-align: middle;\n",
       "    }\n",
       "\n",
       "    .dataframe tbody tr th {\n",
       "        vertical-align: top;\n",
       "    }\n",
       "\n",
       "    .dataframe thead th {\n",
       "        text-align: right;\n",
       "    }\n",
       "</style>\n",
       "<table border=\"1\" class=\"dataframe\">\n",
       "  <thead>\n",
       "    <tr style=\"text-align: right;\">\n",
       "      <th></th>\n",
       "      <th>age</th>\n",
       "      <th>job</th>\n",
       "      <th>marital</th>\n",
       "      <th>education</th>\n",
       "      <th>default</th>\n",
       "      <th>balance</th>\n",
       "      <th>housing</th>\n",
       "      <th>loan</th>\n",
       "      <th>contact</th>\n",
       "      <th>day</th>\n",
       "      <th>month</th>\n",
       "      <th>duration</th>\n",
       "      <th>campaign</th>\n",
       "      <th>pdays</th>\n",
       "      <th>previous</th>\n",
       "      <th>poutcome</th>\n",
       "      <th>y</th>\n",
       "    </tr>\n",
       "  </thead>\n",
       "  <tbody>\n",
       "    <tr>\n",
       "      <th>0</th>\n",
       "      <td>58</td>\n",
       "      <td>management</td>\n",
       "      <td>married</td>\n",
       "      <td>tertiary</td>\n",
       "      <td>no</td>\n",
       "      <td>2143</td>\n",
       "      <td>yes</td>\n",
       "      <td>no</td>\n",
       "      <td>unknown</td>\n",
       "      <td>5</td>\n",
       "      <td>may</td>\n",
       "      <td>261</td>\n",
       "      <td>1</td>\n",
       "      <td>-1</td>\n",
       "      <td>0</td>\n",
       "      <td>unknown</td>\n",
       "      <td>no</td>\n",
       "    </tr>\n",
       "    <tr>\n",
       "      <th>1</th>\n",
       "      <td>44</td>\n",
       "      <td>technician</td>\n",
       "      <td>single</td>\n",
       "      <td>secondary</td>\n",
       "      <td>no</td>\n",
       "      <td>29</td>\n",
       "      <td>yes</td>\n",
       "      <td>no</td>\n",
       "      <td>unknown</td>\n",
       "      <td>5</td>\n",
       "      <td>may</td>\n",
       "      <td>151</td>\n",
       "      <td>1</td>\n",
       "      <td>-1</td>\n",
       "      <td>0</td>\n",
       "      <td>unknown</td>\n",
       "      <td>no</td>\n",
       "    </tr>\n",
       "    <tr>\n",
       "      <th>2</th>\n",
       "      <td>33</td>\n",
       "      <td>entrepreneur</td>\n",
       "      <td>married</td>\n",
       "      <td>secondary</td>\n",
       "      <td>no</td>\n",
       "      <td>2</td>\n",
       "      <td>yes</td>\n",
       "      <td>yes</td>\n",
       "      <td>unknown</td>\n",
       "      <td>5</td>\n",
       "      <td>may</td>\n",
       "      <td>76</td>\n",
       "      <td>1</td>\n",
       "      <td>-1</td>\n",
       "      <td>0</td>\n",
       "      <td>unknown</td>\n",
       "      <td>no</td>\n",
       "    </tr>\n",
       "    <tr>\n",
       "      <th>3</th>\n",
       "      <td>47</td>\n",
       "      <td>blue-collar</td>\n",
       "      <td>married</td>\n",
       "      <td>unknown</td>\n",
       "      <td>no</td>\n",
       "      <td>1506</td>\n",
       "      <td>yes</td>\n",
       "      <td>no</td>\n",
       "      <td>unknown</td>\n",
       "      <td>5</td>\n",
       "      <td>may</td>\n",
       "      <td>92</td>\n",
       "      <td>1</td>\n",
       "      <td>-1</td>\n",
       "      <td>0</td>\n",
       "      <td>unknown</td>\n",
       "      <td>no</td>\n",
       "    </tr>\n",
       "    <tr>\n",
       "      <th>4</th>\n",
       "      <td>33</td>\n",
       "      <td>unknown</td>\n",
       "      <td>single</td>\n",
       "      <td>unknown</td>\n",
       "      <td>no</td>\n",
       "      <td>1</td>\n",
       "      <td>no</td>\n",
       "      <td>no</td>\n",
       "      <td>unknown</td>\n",
       "      <td>5</td>\n",
       "      <td>may</td>\n",
       "      <td>198</td>\n",
       "      <td>1</td>\n",
       "      <td>-1</td>\n",
       "      <td>0</td>\n",
       "      <td>unknown</td>\n",
       "      <td>no</td>\n",
       "    </tr>\n",
       "  </tbody>\n",
       "</table>\n",
       "</div>"
      ],
      "text/plain": [
       "   age           job  marital  education default  balance housing loan  \\\n",
       "0   58    management  married   tertiary      no     2143     yes   no   \n",
       "1   44    technician   single  secondary      no       29     yes   no   \n",
       "2   33  entrepreneur  married  secondary      no        2     yes  yes   \n",
       "3   47   blue-collar  married    unknown      no     1506     yes   no   \n",
       "4   33       unknown   single    unknown      no        1      no   no   \n",
       "\n",
       "   contact  day month  duration  campaign  pdays  previous poutcome   y  \n",
       "0  unknown    5   may       261         1     -1         0  unknown  no  \n",
       "1  unknown    5   may       151         1     -1         0  unknown  no  \n",
       "2  unknown    5   may        76         1     -1         0  unknown  no  \n",
       "3  unknown    5   may        92         1     -1         0  unknown  no  \n",
       "4  unknown    5   may       198         1     -1         0  unknown  no  "
      ]
     },
     "execution_count": 3,
     "metadata": {},
     "output_type": "execute_result"
    }
   ],
   "source": [
    "df = pd.read_csv('bank-full.csv',sep=\";\")\n",
    "df.head()"
   ]
  },
  {
   "cell_type": "markdown",
   "id": "07508228",
   "metadata": {},
   "source": [
    "***"
   ]
  },
  {
   "cell_type": "markdown",
   "id": "bcf3e0c1",
   "metadata": {},
   "source": [
    "# <span style=\"font-family:Times New Roman\"> Checking out the categories and their respective counts in each feature</span>"
   ]
  },
  {
   "cell_type": "code",
   "execution_count": 4,
   "id": "5d8b46d4",
   "metadata": {},
   "outputs": [
    {
     "name": "stdout",
     "output_type": "stream",
     "text": [
      "Job:\n",
      "blue-collar      9732\n",
      "management       9458\n",
      "technician       7597\n",
      "admin.           5171\n",
      "services         4154\n",
      "retired          2264\n",
      "self-employed    1579\n",
      "entrepreneur     1487\n",
      "unemployed       1303\n",
      "housemaid        1240\n",
      "student           938\n",
      "unknown           288\n",
      "Name: job, dtype: int64\n",
      "----------------------------------------\n",
      "Marital:\n",
      "married     27214\n",
      "single      12790\n",
      "divorced     5207\n",
      "Name: marital, dtype: int64\n",
      "----------------------------------------\n",
      "Education:\n",
      "secondary    23202\n",
      "tertiary     13301\n",
      "primary       6851\n",
      "unknown       1857\n",
      "Name: education, dtype: int64\n",
      "----------------------------------------\n",
      "Default:\n",
      "no     44396\n",
      "yes      815\n",
      "Name: default, dtype: int64\n",
      "----------------------------------------\n",
      "Housing loan:\n",
      "yes    25130\n",
      "no     20081\n",
      "Name: housing, dtype: int64\n",
      "----------------------------------------\n",
      "Personal loan:\n",
      "no     37967\n",
      "yes     7244\n",
      "Name: loan, dtype: int64\n",
      "----------------------------------------\n",
      "Contact:\n",
      "cellular     29285\n",
      "unknown      13020\n",
      "telephone     2906\n",
      "Name: contact, dtype: int64\n",
      "----------------------------------------\n",
      "Month:\n",
      "may    13766\n",
      "jul     6895\n",
      "aug     6247\n",
      "jun     5341\n",
      "nov     3970\n",
      "apr     2932\n",
      "feb     2649\n",
      "jan     1403\n",
      "oct      738\n",
      "sep      579\n",
      "mar      477\n",
      "dec      214\n",
      "Name: month, dtype: int64\n",
      "----------------------------------------\n",
      "Previous outcome:\n",
      "unknown    36959\n",
      "failure     4901\n",
      "other       1840\n",
      "success     1511\n",
      "Name: poutcome, dtype: int64\n",
      "----------------------------------------\n",
      "Outcome of this campaign:\n",
      "no     39922\n",
      "yes     5289\n",
      "Name: y, dtype: int64\n",
      "----------------------------------------\n"
     ]
    }
   ],
   "source": [
    "print(\"Job:\",bank_copy.job.value_counts(),sep = '\\n')\n",
    "print(\"-\"*40)\n",
    "print(\"Marital:\",bank_copy.marital.value_counts(),sep = '\\n')\n",
    "print(\"-\"*40)\n",
    "print(\"Education:\",bank_copy.education.value_counts(),sep = '\\n')\n",
    "print(\"-\"*40)\n",
    "print(\"Default:\",bank_copy.default.value_counts(),sep = '\\n')\n",
    "print(\"-\"*40)\n",
    "print(\"Housing loan:\",bank_copy.housing.value_counts(),sep = '\\n')\n",
    "print(\"-\"*40)\n",
    "print(\"Personal loan:\",bank_copy.loan.value_counts(),sep = '\\n')\n",
    "print(\"-\"*40)\n",
    "print(\"Contact:\",bank_copy.contact.value_counts(),sep = '\\n')\n",
    "print(\"-\"*40)\n",
    "print(\"Month:\",bank_copy.month.value_counts(),sep = '\\n')\n",
    "print(\"-\"*40)\n",
    "print(\"Previous outcome:\",bank_copy.poutcome.value_counts(),sep = '\\n')\n",
    "print(\"-\"*40)\n",
    "print(\"Outcome of this campaign:\",bank_copy.y.value_counts(),sep = '\\n')\n",
    "print(\"-\"*40)"
   ]
  },
  {
   "cell_type": "markdown",
   "id": "966d2f27",
   "metadata": {},
   "source": [
    "# <span style=\"font-family:Times New Roman\">Data Cleaning</span>\n",
    "## <span style=\"font-family:Times New Roman\">Checking for missing values</span>\n",
    "\n",
    "<p style=\"font-size:20px\"><span style=\"font-family:Times New Roman\">First let's check it visually.</span>.</p>"
   ]
  },
  {
   "cell_type": "code",
   "execution_count": 5,
   "id": "3aa25044",
   "metadata": {},
   "outputs": [
    {
     "name": "stdout",
     "output_type": "stream",
     "text": [
      "bank-full.csv\n",
      "age          0\n",
      "job          0\n",
      "marital      0\n",
      "education    0\n",
      "default      0\n",
      "balance      0\n",
      "housing      0\n",
      "loan         0\n",
      "contact      0\n",
      "day          0\n",
      "month        0\n",
      "duration     0\n",
      "campaign     0\n",
      "pdays        0\n",
      "previous     0\n",
      "poutcome     0\n",
      "y            0\n",
      "dtype: int64\n"
     ]
    }
   ],
   "source": [
    "print('bank-full.csv',bank_copy.isnull().sum(), sep = '\\n')"
   ]
  },
  {
   "cell_type": "markdown",
   "id": "9e4de442",
   "metadata": {},
   "source": [
    "***"
   ]
  },
  {
   "cell_type": "markdown",
   "id": "558324e4",
   "metadata": {},
   "source": [
    "# <span style=\"font-family:Times New Roman\">Categorical columns exploration</span>\n",
    "\n",
    "<p style=\"font-size:20px\"><span style=\"font-family:Times New Roman\">In the dataset we have both categorical and numerical columns. Let's look at the values of categorical columns first.</span>.</p>"
   ]
  },
  {
   "cell_type": "code",
   "execution_count": 6,
   "id": "1d0e4bba",
   "metadata": {},
   "outputs": [
    {
     "data": {
      "image/png": "[encoded data removed]",
      "text/plain": [
       "<Figure size 1440x1080 with 9 Axes>"
      ]
     },
     "metadata": {},
     "output_type": "display_data"
    }
   ],
   "source": [
    "cat_columns = ['job', 'marital', 'education', 'default', 'housing', 'loan', 'contact', 'month','poutcome']\n",
    "\n",
    "fig, axs = plt.subplots(3, 3, sharex=False, sharey=False, figsize=(20, 15))\n",
    "\n",
    "counter = 0\n",
    "for cat_column in cat_columns:\n",
    "    value_counts = df[cat_column].value_counts()\n",
    "    \n",
    "    trace_x = counter // 3\n",
    "    trace_y = counter % 3\n",
    "    x_pos = np.arange(0, len(value_counts))\n",
    "    \n",
    "    axs[trace_x, trace_y].bar(x_pos, value_counts.values, tick_label = value_counts.index)\n",
    "    \n",
    "    axs[trace_x, trace_y].set_title(cat_column)\n",
    "    \n",
    "    for tick in axs[trace_x, trace_y].get_xticklabels():\n",
    "        tick.set_rotation(90)\n",
    "    \n",
    "    counter += 1\n",
    "\n",
    "plt.show()"
   ]
  },
  {
   "cell_type": "markdown",
   "id": "2af08071",
   "metadata": {},
   "source": [
    "***"
   ]
  },
  {
   "cell_type": "markdown",
   "id": "f2525ae8",
   "metadata": {},
   "source": [
    "#  <span style=\"font-family:Times New Roman\">Conclusion:</span>\n",
    "\n",
    "## <span style=\"font-family:Times New Roman\"> From the above visuals, we can make the following observations:</span>\n",
    "\n",
    "<p style=\"font-size:20px\"><span style=\"font-family:Times New Roman\">* The top four professions that our customers belong to are - Administration, Blue-collar jobs, Technicians and Management.</span></p>\n",
    "<p style=\"font-size:20px\"><span style=\"font-family:Times New Roman\">* A huge number of the customers are married.</span></p>\n",
    "<p style=\"font-size:20px\"><span style=\"font-family:Times New Roman\">* Majority of the customers do not have a credit in default</span></p>\n",
    "<p style=\"font-size:20px\"><span style=\"font-family:Times New Roman\">* Many of our past customers have applied for a housing loan but very few have applied for personal loans.</span></p>\n",
    "<p style=\"font-size:20px\"><span style=\"font-family:Times New Roman\">* Cell-phones seem to be the most favoured method of reaching out to customers.</span></p>\n",
    "<p style=\"font-size:20px\"><span style=\"font-family:Times New Roman\">* Many customers have been contacted in the month of May.</span></p>\n",
    "<p style=\"font-size:20px\"><span style=\"font-family:Times New Roman\">* The plot for the target variable shows heavy imbalance in the target variable.</span></p>\n",
    "<p style=\"font-size:20px\"><span style=\"font-family:Times New Roman\">* The missing values in some columns have been represented as unknown. unknown represents missing data.</span></p>"
   ]
  },
  {
   "cell_type": "markdown",
   "id": "72d23270",
   "metadata": {},
   "source": [
    "***"
   ]
  },
  {
   "cell_type": "markdown",
   "id": "55cea56a",
   "metadata": {},
   "source": [
    "# <span style=\"font-family:Times New Roman\">Numerical columns exploration</span>\n",
    "\n",
    "<p style=\"font-size:20px\"><span style=\"font-family:Times New Roman\">Now let's look at the numerical columns' values. The most convenient way to look at the numerical values is plotting histograms.</span>.</p>"
   ]
  },
  {
   "cell_type": "code",
   "execution_count": 7,
   "id": "758e84a8",
   "metadata": {},
   "outputs": [
    {
     "data": {
      "image/png": "[encoded data removed]",
      "text/plain": [
       "<Figure size 1440x1080 with 6 Axes>"
      ]
     },
     "metadata": {},
     "output_type": "display_data"
    }
   ],
   "source": [
    "num_columns = ['balance', 'day','duration', 'campaign', 'pdays', 'previous']\n",
    "\n",
    "fig, axs = plt.subplots(2, 3, sharex=False, sharey=False, figsize=(20, 15))\n",
    "\n",
    "counter = 0\n",
    "for num_column in num_columns:\n",
    "    \n",
    "    trace_x = counter // 3\n",
    "    trace_y = counter % 3\n",
    "    \n",
    "    axs[trace_x, trace_y].hist(df[num_column])\n",
    "    \n",
    "    axs[trace_x, trace_y].set_title(num_column)\n",
    "    \n",
    "    counter += 1\n",
    "\n",
    "plt.show()"
   ]
  },
  {
   "cell_type": "markdown",
   "id": "08fd3217",
   "metadata": {},
   "source": [
    "# <span style=\"font-family:Times New Roman\">Conclusion </span>\n",
    "<p style=\"font-size:20px\"><span style=\"font-family:Times New Roman\">We can see that numerical columns have outliers (especially 'pdays', 'campaign' and 'previous' columns). Possibly there are incorrect values (noisy data), so we should look closer at the data and decide how do we manage the noise.\n",
    "Let's look closer at the values of 'campaign', 'pdays' and 'previous' columns:</span>.</p>"
   ]
  },
  {
   "cell_type": "code",
   "execution_count": 8,
   "id": "1e869f35",
   "metadata": {
    "scrolled": true
   },
   "outputs": [
    {
     "data": {
      "text/html": [
       "<div>\n",
       "<style scoped>\n",
       "    .dataframe tbody tr th:only-of-type {\n",
       "        vertical-align: middle;\n",
       "    }\n",
       "\n",
       "    .dataframe tbody tr th {\n",
       "        vertical-align: top;\n",
       "    }\n",
       "\n",
       "    .dataframe thead th {\n",
       "        text-align: right;\n",
       "    }\n",
       "</style>\n",
       "<table border=\"1\" class=\"dataframe\">\n",
       "  <thead>\n",
       "    <tr style=\"text-align: right;\">\n",
       "      <th></th>\n",
       "      <th>pdays</th>\n",
       "      <th>campaign</th>\n",
       "      <th>previous</th>\n",
       "    </tr>\n",
       "  </thead>\n",
       "  <tbody>\n",
       "    <tr>\n",
       "      <th>count</th>\n",
       "      <td>45211.000000</td>\n",
       "      <td>45211.000000</td>\n",
       "      <td>45211.000000</td>\n",
       "    </tr>\n",
       "    <tr>\n",
       "      <th>mean</th>\n",
       "      <td>40.197828</td>\n",
       "      <td>2.763841</td>\n",
       "      <td>0.580323</td>\n",
       "    </tr>\n",
       "    <tr>\n",
       "      <th>std</th>\n",
       "      <td>100.128746</td>\n",
       "      <td>3.098021</td>\n",
       "      <td>2.303441</td>\n",
       "    </tr>\n",
       "    <tr>\n",
       "      <th>min</th>\n",
       "      <td>-1.000000</td>\n",
       "      <td>1.000000</td>\n",
       "      <td>0.000000</td>\n",
       "    </tr>\n",
       "    <tr>\n",
       "      <th>25%</th>\n",
       "      <td>-1.000000</td>\n",
       "      <td>1.000000</td>\n",
       "      <td>0.000000</td>\n",
       "    </tr>\n",
       "    <tr>\n",
       "      <th>50%</th>\n",
       "      <td>-1.000000</td>\n",
       "      <td>2.000000</td>\n",
       "      <td>0.000000</td>\n",
       "    </tr>\n",
       "    <tr>\n",
       "      <th>75%</th>\n",
       "      <td>-1.000000</td>\n",
       "      <td>3.000000</td>\n",
       "      <td>0.000000</td>\n",
       "    </tr>\n",
       "    <tr>\n",
       "      <th>max</th>\n",
       "      <td>871.000000</td>\n",
       "      <td>63.000000</td>\n",
       "      <td>275.000000</td>\n",
       "    </tr>\n",
       "  </tbody>\n",
       "</table>\n",
       "</div>"
      ],
      "text/plain": [
       "              pdays      campaign      previous\n",
       "count  45211.000000  45211.000000  45211.000000\n",
       "mean      40.197828      2.763841      0.580323\n",
       "std      100.128746      3.098021      2.303441\n",
       "min       -1.000000      1.000000      0.000000\n",
       "25%       -1.000000      1.000000      0.000000\n",
       "50%       -1.000000      2.000000      0.000000\n",
       "75%       -1.000000      3.000000      0.000000\n",
       "max      871.000000     63.000000    275.000000"
      ]
     },
     "execution_count": 8,
     "metadata": {},
     "output_type": "execute_result"
    }
   ],
   "source": [
    "df[['pdays', 'campaign', 'previous']].describe()"
   ]
  },
  {
   "cell_type": "markdown",
   "id": "90acd003",
   "metadata": {},
   "source": [
    "<p style=\"font-size:20px\"><span style=\"font-family:Times New Roman\">Percentage of <span style=\"color:blue\">'pdays'</span> values above 400</spap></p>"
   ]
  },
  {
   "cell_type": "code",
   "execution_count": 9,
   "id": "28f89000",
   "metadata": {},
   "outputs": [
    {
     "data": {
      "text/plain": [
       "0.5175731569750724"
      ]
     },
     "execution_count": 9,
     "metadata": {},
     "output_type": "execute_result"
    }
   ],
   "source": [
    "len (df[df['pdays'] > 400] ) / len(df) * 100"
   ]
  },
  {
   "cell_type": "markdown",
   "id": "cf654d1f",
   "metadata": {},
   "source": [
    "# <span style=\"font-family:Times New Roman\"> Conclusion</span>\n",
    "\n",
    "<p style=\"font-size:20px\"><span style=\"font-family:Times New Roman\"><span style=\"color:blue\">Pdays</span> holds the number of days that passed by after the customer was last contacted from a previous campaign Looking closer into <span style=\"color:blue\">pdays</span> data we can see that:</span>\n",
    "\n",
    "<p style=\"font-size:20px\"><span style=\"font-family:Times New Roman\"> Only 1.2% of values is above 400. They are possibly outliers, so we should consider imputing something (possibly mean value) instead of these values.</span>\n",
    "\n",
    "<p style=\"font-size:20px\"><span style=\"font-family:Times New Roman\">-1 possibly means that the customer wasn't contacted before or stands for missing data.</span>\n",
    "\n",
    "<p style=\"font-size:20px\"><span style=\"font-family:Times New Roman\">Since we are not exactly sure what -1 means I suggest we drop this column, because -1 makes more than 50% of the values of the column.</span>"
   ]
  },
  {
   "cell_type": "markdown",
   "id": "7d21cabd",
   "metadata": {},
   "source": [
    "***"
   ]
  },
  {
   "cell_type": "markdown",
   "id": "da0fa05f",
   "metadata": {},
   "source": [
    "<p style=\"font-size:20px\"><span style=\"font-family:Times New Roman\"> Percentage of <span style=\"color:blue\"> campaign</span> values above 20 </span></p>"
   ]
  },
  {
   "cell_type": "code",
   "execution_count": 10,
   "id": "489a0202",
   "metadata": {},
   "outputs": [
    {
     "data": {
      "text/plain": [
       "0.059719979650969895"
      ]
     },
     "execution_count": 10,
     "metadata": {},
     "output_type": "execute_result"
    }
   ],
   "source": [
    "len (df[df['campaign'] > 34] ) / len(df) * 100"
   ]
  },
  {
   "cell_type": "markdown",
   "id": "53df4d81",
   "metadata": {},
   "source": [
    "# <span style=\"font-family:Times New Roman\">Conclusion</span>\n",
    "</span><p style=\"font-size:20px\"><span style=\"font-family:Times New Roman\"><span style=\"color:blue\"><b>Campaign</b></span> holds the number of contacts performed during this <span style=\"color:blue\">campaign </span> and for this customer (numeric, includes last contact) Numbers for 'campaign' above 34 are clearly noise, so I suggest to impute them with average campaign values while data cleaning.</span></p>"
   ]
  },
  {
   "cell_type": "markdown",
   "id": "226b00ad",
   "metadata": {},
   "source": [
    "***"
   ]
  },
  {
   "cell_type": "markdown",
   "id": "69db304d",
   "metadata": {},
   "source": [
    "<p style=\"font-size:20px\"><span style=\"font-family:Times New Roman\"> Percentage of <span style=\"color:blue\">Previous</span> values above 20 </span></p>"
   ]
  },
  {
   "cell_type": "code",
   "execution_count": 11,
   "id": "c595f20e",
   "metadata": {},
   "outputs": [
    {
     "data": {
      "text/plain": [
       "0.024330362080024773"
      ]
     },
     "execution_count": 11,
     "metadata": {},
     "output_type": "execute_result"
    }
   ],
   "source": [
    "len (df[df['previous'] > 34] ) / len(df) * 100"
   ]
  },
  {
   "cell_type": "markdown",
   "id": "1a9dd03d",
   "metadata": {},
   "source": [
    "# <span style=\"font-family:Times New Roman\">Conclusion</span>\n",
    "<p style=\"font-size:20px\"><span style=\"font-family:Times New Roman\"><span style=\"color:blue\"><b>Previous</b></span> holds the number of contacts performed before this <span style=\"color:blue\"><b> campaign</b></span> and for this customer (numeric) Numbers for <span style=\"color:blue\"> previous campaign</span> above 34 are also really strange, My suggestion will be to impute them with average campaign values while data cleaning.<span></p>"
   ]
  },
  {
   "cell_type": "markdown",
   "id": "3c14b330",
   "metadata": {},
   "source": [
    "***"
   ]
  },
  {
   "cell_type": "markdown",
   "id": "953284dd",
   "metadata": {},
   "source": [
    "# <span style=\"font-family:Times New Roman\">Analysis of the response column</span>\n",
    "<p style=\"font-size:20px\"><span style=\"font-family:Times New Roman\">It is very important to look at the response column, which holds the information, which we are going to predict. In our case we should look at 'New Customer y' column and compare it's values to other columns.\n",
    "First of all we should look at the number of 'yes' and 'no' values in the response column 'New Customer y'.</span>.</p>"
   ]
  },
  {
   "cell_type": "markdown",
   "id": "5146dbc4",
   "metadata": {},
   "source": [
    "***"
   ]
  },
  {
   "cell_type": "code",
   "execution_count": 12,
   "id": "41da140f",
   "metadata": {},
   "outputs": [
    {
     "data": {
      "text/plain": [
       "<AxesSubplot:title={'center':'New Customer value counts'}>"
      ]
     },
     "execution_count": 12,
     "metadata": {},
     "output_type": "execute_result"
    },
    {
     "data": {
      "image/png": "[encoded data removed]",
      "text/plain": [
       "<Figure size 864x576 with 1 Axes>"
      ]
     },
     "metadata": {},
     "output_type": "display_data"
    }
   ],
   "source": [
    "value_counts = df['y'].value_counts()\n",
    "\n",
    "value_counts.plot.bar(title = 'New Customer value counts')"
   ]
  },
  {
   "cell_type": "markdown",
   "id": "8435ce25",
   "metadata": {},
   "source": [
    "<p style=\"font-size:20px\"><span style=\"font-family:Times New Roman\"> On the diagram we can see that counts for 'yes' and 'no' values for 'New Customer' is not close, so we can use accuracy as a metric for a model, which predicts the campaign outcome.</span>.</p>"
   ]
  },
  {
   "cell_type": "markdown",
   "id": "cecb08b3",
   "metadata": {},
   "source": [
    "***"
   ]
  },
  {
   "cell_type": "markdown",
   "id": "c83e7077",
   "metadata": {},
   "source": [
    "<p style=\"font-size:20px\"><span style=\"font-family:Times New Roman\"> Let's see how <span style=\"color:blue\"><b>New Customer y</b></span> column value varies depending on other categorical columns' values:</span>.</p>"
   ]
  },
  {
   "cell_type": "code",
   "execution_count": 13,
   "id": "0176fbc6",
   "metadata": {},
   "outputs": [
    {
     "data": {
      "text/plain": [
       "<AxesSubplot:title={'center':'Job and New Customer y'}>"
      ]
     },
     "execution_count": 13,
     "metadata": {},
     "output_type": "execute_result"
    },
    {
     "data": {
      "image/png": "[encoded data removed]",
      "text/plain": [
       "<Figure size 864x576 with 1 Axes>"
      ]
     },
     "metadata": {},
     "output_type": "display_data"
    }
   ],
   "source": [
    "j_df = pd.DataFrame()\n",
    "\n",
    "j_df['yes'] = df[df['y'] == 'yes']['job'].value_counts()\n",
    "j_df['no'] = df[df['y'] == 'no']['job'].value_counts()\n",
    "\n",
    "j_df.plot.bar(title = 'Job and New Customer y')"
   ]
  },
  {
   "cell_type": "code",
   "execution_count": 14,
   "id": "b1591c7f",
   "metadata": {},
   "outputs": [
    {
     "data": {
      "text/plain": [
       "<AxesSubplot:title={'center':'Marital status and New Customer y'}>"
      ]
     },
     "execution_count": 14,
     "metadata": {},
     "output_type": "execute_result"
    },
    {
     "data": {
      "image/png": "[encoded data removed]",
      "text/plain": [
       "<Figure size 864x576 with 1 Axes>"
      ]
     },
     "metadata": {},
     "output_type": "display_data"
    }
   ],
   "source": [
    "j_df = pd.DataFrame()\n",
    "\n",
    "j_df['yes'] = df[df['y'] == 'yes']['marital'].value_counts()\n",
    "j_df['no'] = df[df['y'] == 'no']['marital'].value_counts()\n",
    "\n",
    "j_df.plot.bar(title = 'Marital status and New Customer y')"
   ]
  },
  {
   "cell_type": "code",
   "execution_count": 15,
   "id": "a137aa21",
   "metadata": {},
   "outputs": [
    {
     "data": {
      "text/plain": [
       "<AxesSubplot:title={'center':'Education and New Customer y'}>"
      ]
     },
     "execution_count": 15,
     "metadata": {},
     "output_type": "execute_result"
    },
    {
     "data": {
      "image/png": "[encoded data removed]",
      "text/plain": [
       "<Figure size 864x576 with 1 Axes>"
      ]
     },
     "metadata": {},
     "output_type": "display_data"
    }
   ],
   "source": [
    "j_df = pd.DataFrame()\n",
    "\n",
    "j_df['yes'] = df[df['y'] == 'yes']['education'].value_counts()\n",
    "j_df['no'] = df[df['y'] == 'no']['education'].value_counts()\n",
    "\n",
    "j_df.plot.bar(title = 'Education and New Customer y')"
   ]
  },
  {
   "cell_type": "code",
   "execution_count": 16,
   "id": "81e5bf02",
   "metadata": {},
   "outputs": [
    {
     "data": {
      "text/plain": [
       "<AxesSubplot:title={'center':'Type of contact and New Customer y'}>"
      ]
     },
     "execution_count": 16,
     "metadata": {},
     "output_type": "execute_result"
    },
    {
     "data": {
      "image/png": "[encoded data removed]",
      "text/plain": [
       "<Figure size 864x576 with 1 Axes>"
      ]
     },
     "metadata": {},
     "output_type": "display_data"
    }
   ],
   "source": [
    "j_df = pd.DataFrame()\n",
    "\n",
    "j_df['yes'] = df[df['y'] == 'yes']['contact'].value_counts()\n",
    "j_df['no'] = df[df['y'] == 'no']['contact'].value_counts()\n",
    "\n",
    "j_df.plot.bar(title = 'Type of contact and New Customer y')"
   ]
  },
  {
   "cell_type": "markdown",
   "id": "3a589c0f",
   "metadata": {},
   "source": [
    "<p style=\"font-size:20px\"><span style=\"font-family:Times New Roman\">Regarding the diagrams we can tell that according to our dataset:</span>.</p>"
   ]
  },
  {
   "cell_type": "markdown",
   "id": "5f6bdd62",
   "metadata": {},
   "source": [
    "# <span style=\"font-family:Times New Roman\"> Conclusion</span>\n",
    "<p style=\"font-size:20px\"><span style=\"font-family:Times New Roman\">\n",
    "* Customers with 'blue-collar' and 'services' jobs are less likely to Join the Bank as a new Customer.</span></p>\n",
    "<p style=\"font-size:20px\"><span style=\"font-family:Times New Roman\">*  Married people more often agreed to become a new customer, but in relative terms the single people responded better.</span></p>\n",
    "<p style=\"font-size:20px\"><span style=\"font-family:Times New Roman\">* Customers with 'cellular' type of contact are more likely to Join the Bank as a new Customer.</span></p>"
   ]
  },
  {
   "cell_type": "markdown",
   "id": "9b991950",
   "metadata": {},
   "source": [
    "***"
   ]
  },
  {
   "cell_type": "markdown",
   "id": "cdb8328c",
   "metadata": {},
   "source": [
    "<p style=\"font-size:20px\"><span style=\"font-family:Times New Roman\"> Now let's take a look on how numerical columns will affect New Customers Joining the bank.</span></p>"
   ]
  },
  {
   "cell_type": "code",
   "execution_count": 17,
   "id": "af578d05",
   "metadata": {},
   "outputs": [
    {
     "data": {
      "text/html": [
       "<div>\n",
       "<style scoped>\n",
       "    .dataframe tbody tr th:only-of-type {\n",
       "        vertical-align: middle;\n",
       "    }\n",
       "\n",
       "    .dataframe tbody tr th {\n",
       "        vertical-align: top;\n",
       "    }\n",
       "\n",
       "    .dataframe thead th {\n",
       "        text-align: right;\n",
       "    }\n",
       "</style>\n",
       "<table border=\"1\" class=\"dataframe\">\n",
       "  <thead>\n",
       "    <tr style=\"text-align: right;\">\n",
       "      <th></th>\n",
       "      <th>Balance_yes</th>\n",
       "      <th>Balance_no</th>\n",
       "    </tr>\n",
       "  </thead>\n",
       "  <tbody>\n",
       "    <tr>\n",
       "      <th>count</th>\n",
       "      <td>5289.000000</td>\n",
       "      <td>39922.000000</td>\n",
       "    </tr>\n",
       "    <tr>\n",
       "      <th>mean</th>\n",
       "      <td>1804.267915</td>\n",
       "      <td>1303.714969</td>\n",
       "    </tr>\n",
       "    <tr>\n",
       "      <th>std</th>\n",
       "      <td>3501.104777</td>\n",
       "      <td>2974.195473</td>\n",
       "    </tr>\n",
       "    <tr>\n",
       "      <th>min</th>\n",
       "      <td>-3058.000000</td>\n",
       "      <td>-8019.000000</td>\n",
       "    </tr>\n",
       "    <tr>\n",
       "      <th>25%</th>\n",
       "      <td>210.000000</td>\n",
       "      <td>58.000000</td>\n",
       "    </tr>\n",
       "    <tr>\n",
       "      <th>50%</th>\n",
       "      <td>733.000000</td>\n",
       "      <td>417.000000</td>\n",
       "    </tr>\n",
       "    <tr>\n",
       "      <th>75%</th>\n",
       "      <td>2159.000000</td>\n",
       "      <td>1345.000000</td>\n",
       "    </tr>\n",
       "    <tr>\n",
       "      <th>max</th>\n",
       "      <td>81204.000000</td>\n",
       "      <td>102127.000000</td>\n",
       "    </tr>\n",
       "  </tbody>\n",
       "</table>\n",
       "</div>"
      ],
      "text/plain": [
       "        Balance_yes     Balance_no\n",
       "count   5289.000000   39922.000000\n",
       "mean    1804.267915    1303.714969\n",
       "std     3501.104777    2974.195473\n",
       "min    -3058.000000   -8019.000000\n",
       "25%      210.000000      58.000000\n",
       "50%      733.000000     417.000000\n",
       "75%     2159.000000    1345.000000\n",
       "max    81204.000000  102127.000000"
      ]
     },
     "execution_count": 17,
     "metadata": {},
     "output_type": "execute_result"
    }
   ],
   "source": [
    "b_df = pd.DataFrame()\n",
    "b_df['Balance_yes'] = (df[df['y'] == 'yes'][['y','balance']].describe())['balance']\n",
    "b_df['Balance_no'] = (df[df['y'] == 'no'][['y','balance']].describe())['balance']\n",
    "\n",
    "b_df"
   ]
  },
  {
   "cell_type": "code",
   "execution_count": 18,
   "id": "f0702af8",
   "metadata": {},
   "outputs": [
    {
     "data": {
      "text/plain": [
       "<AxesSubplot:title={'center':'Balance and New Customers statistics'}>"
      ]
     },
     "execution_count": 18,
     "metadata": {},
     "output_type": "execute_result"
    },
    {
     "data": {
      "image/png": "[encoded data removed]",
      "text/plain": [
       "<Figure size 864x576 with 1 Axes>"
      ]
     },
     "metadata": {},
     "output_type": "display_data"
    }
   ],
   "source": [
    "b_df.drop(['count', '25%', '50%', '75%']).plot.bar(title = 'Balance and New Customers statistics')"
   ]
  },
  {
   "cell_type": "code",
   "execution_count": 19,
   "id": "41fb3b7c",
   "metadata": {},
   "outputs": [
    {
     "data": {
      "text/html": [
       "<div>\n",
       "<style scoped>\n",
       "    .dataframe tbody tr th:only-of-type {\n",
       "        vertical-align: middle;\n",
       "    }\n",
       "\n",
       "    .dataframe tbody tr th {\n",
       "        vertical-align: top;\n",
       "    }\n",
       "\n",
       "    .dataframe thead th {\n",
       "        text-align: right;\n",
       "    }\n",
       "</style>\n",
       "<table border=\"1\" class=\"dataframe\">\n",
       "  <thead>\n",
       "    <tr style=\"text-align: right;\">\n",
       "      <th></th>\n",
       "      <th>age_yes</th>\n",
       "      <th>age_no</th>\n",
       "    </tr>\n",
       "  </thead>\n",
       "  <tbody>\n",
       "    <tr>\n",
       "      <th>count</th>\n",
       "      <td>5289.000000</td>\n",
       "      <td>39922.000000</td>\n",
       "    </tr>\n",
       "    <tr>\n",
       "      <th>mean</th>\n",
       "      <td>41.670070</td>\n",
       "      <td>40.838986</td>\n",
       "    </tr>\n",
       "    <tr>\n",
       "      <th>std</th>\n",
       "      <td>13.497781</td>\n",
       "      <td>10.172662</td>\n",
       "    </tr>\n",
       "    <tr>\n",
       "      <th>min</th>\n",
       "      <td>18.000000</td>\n",
       "      <td>18.000000</td>\n",
       "    </tr>\n",
       "    <tr>\n",
       "      <th>25%</th>\n",
       "      <td>31.000000</td>\n",
       "      <td>33.000000</td>\n",
       "    </tr>\n",
       "    <tr>\n",
       "      <th>50%</th>\n",
       "      <td>38.000000</td>\n",
       "      <td>39.000000</td>\n",
       "    </tr>\n",
       "    <tr>\n",
       "      <th>75%</th>\n",
       "      <td>50.000000</td>\n",
       "      <td>48.000000</td>\n",
       "    </tr>\n",
       "    <tr>\n",
       "      <th>max</th>\n",
       "      <td>95.000000</td>\n",
       "      <td>95.000000</td>\n",
       "    </tr>\n",
       "  </tbody>\n",
       "</table>\n",
       "</div>"
      ],
      "text/plain": [
       "           age_yes        age_no\n",
       "count  5289.000000  39922.000000\n",
       "mean     41.670070     40.838986\n",
       "std      13.497781     10.172662\n",
       "min      18.000000     18.000000\n",
       "25%      31.000000     33.000000\n",
       "50%      38.000000     39.000000\n",
       "75%      50.000000     48.000000\n",
       "max      95.000000     95.000000"
      ]
     },
     "execution_count": 19,
     "metadata": {},
     "output_type": "execute_result"
    }
   ],
   "source": [
    "\n",
    "a_df = pd.DataFrame()\n",
    "a_df['age_yes'] = (df[df['y'] == 'yes'][['y','age']].describe())['age']\n",
    "a_df['age_no'] = (df[df['y'] == 'no'][['y','age']].describe())['age']\n",
    "\n",
    "a_df"
   ]
  },
  {
   "cell_type": "code",
   "execution_count": 20,
   "id": "bc079d6b",
   "metadata": {},
   "outputs": [
    {
     "data": {
      "text/plain": [
       "<AxesSubplot:title={'center':'Age and New Customer statistics'}>"
      ]
     },
     "execution_count": 20,
     "metadata": {},
     "output_type": "execute_result"
    },
    {
     "data": {
      "image/png": "[encoded data removed]",
      "text/plain": [
       "<Figure size 864x576 with 1 Axes>"
      ]
     },
     "metadata": {},
     "output_type": "display_data"
    }
   ],
   "source": [
    "a_df.drop(['count', '25%', '50%', '75%']).plot.bar(title = 'Age and New Customer statistics')"
   ]
  },
  {
   "cell_type": "markdown",
   "id": "1cdade9c",
   "metadata": {},
   "source": [
    "##  <span style=\"font-family:Times New Roman\">Numbers of contacts performed during this <span style=\"color:blue\"> (campaign </span> and <span style=\"color:blue\"> New Customers)</span></span>"
   ]
  },
  {
   "cell_type": "code",
   "execution_count": 21,
   "id": "d912c787",
   "metadata": {},
   "outputs": [
    {
     "data": {
      "text/html": [
       "<div>\n",
       "<style scoped>\n",
       "    .dataframe tbody tr th:only-of-type {\n",
       "        vertical-align: middle;\n",
       "    }\n",
       "\n",
       "    .dataframe tbody tr th {\n",
       "        vertical-align: top;\n",
       "    }\n",
       "\n",
       "    .dataframe thead th {\n",
       "        text-align: right;\n",
       "    }\n",
       "</style>\n",
       "<table border=\"1\" class=\"dataframe\">\n",
       "  <thead>\n",
       "    <tr style=\"text-align: right;\">\n",
       "      <th></th>\n",
       "      <th>campaign_yes</th>\n",
       "      <th>campaign_no</th>\n",
       "    </tr>\n",
       "  </thead>\n",
       "  <tbody>\n",
       "    <tr>\n",
       "      <th>count</th>\n",
       "      <td>5289.000000</td>\n",
       "      <td>39922.000000</td>\n",
       "    </tr>\n",
       "    <tr>\n",
       "      <th>mean</th>\n",
       "      <td>2.141047</td>\n",
       "      <td>2.846350</td>\n",
       "    </tr>\n",
       "    <tr>\n",
       "      <th>std</th>\n",
       "      <td>1.921826</td>\n",
       "      <td>3.212767</td>\n",
       "    </tr>\n",
       "    <tr>\n",
       "      <th>min</th>\n",
       "      <td>1.000000</td>\n",
       "      <td>1.000000</td>\n",
       "    </tr>\n",
       "    <tr>\n",
       "      <th>25%</th>\n",
       "      <td>1.000000</td>\n",
       "      <td>1.000000</td>\n",
       "    </tr>\n",
       "    <tr>\n",
       "      <th>50%</th>\n",
       "      <td>2.000000</td>\n",
       "      <td>2.000000</td>\n",
       "    </tr>\n",
       "    <tr>\n",
       "      <th>75%</th>\n",
       "      <td>3.000000</td>\n",
       "      <td>3.000000</td>\n",
       "    </tr>\n",
       "    <tr>\n",
       "      <th>max</th>\n",
       "      <td>32.000000</td>\n",
       "      <td>63.000000</td>\n",
       "    </tr>\n",
       "  </tbody>\n",
       "</table>\n",
       "</div>"
      ],
      "text/plain": [
       "       campaign_yes   campaign_no\n",
       "count   5289.000000  39922.000000\n",
       "mean       2.141047      2.846350\n",
       "std        1.921826      3.212767\n",
       "min        1.000000      1.000000\n",
       "25%        1.000000      1.000000\n",
       "50%        2.000000      2.000000\n",
       "75%        3.000000      3.000000\n",
       "max       32.000000     63.000000"
      ]
     },
     "execution_count": 21,
     "metadata": {},
     "output_type": "execute_result"
    }
   ],
   "source": [
    "c_df = pd.DataFrame()\n",
    "c_df['campaign_yes'] = (df[df['y'] == 'yes'][['y','campaign']].describe())['campaign']\n",
    "c_df['campaign_no'] = (df[df['y'] == 'no'][['y','campaign']].describe())['campaign']\n",
    "\n",
    "c_df"
   ]
  },
  {
   "cell_type": "code",
   "execution_count": 22,
   "id": "16f59cbb",
   "metadata": {},
   "outputs": [
    {
     "data": {
      "text/plain": [
       "<AxesSubplot:title={'center':'Number of contacts performed during this campaign and New Customers statistics'}>"
      ]
     },
     "execution_count": 22,
     "metadata": {},
     "output_type": "execute_result"
    },
    {
     "data": {
      "image/png": "[encoded data removed]",
      "text/plain": [
       "<Figure size 864x576 with 1 Axes>"
      ]
     },
     "metadata": {},
     "output_type": "display_data"
    }
   ],
   "source": [
    "c_df.drop(['count', '25%', '50%', '75%']).plot.bar(title = 'Number of contacts performed during this campaign and New Customers statistics')"
   ]
  },
  {
   "cell_type": "markdown",
   "id": "e52cdf29",
   "metadata": {},
   "source": [
    "# <span style=\"font-family:Times New Roman\">Number of contacts performed during previous campaign <span style=\"color:blue\"> (previous</span> and <span style=\"color:blue\">new customers) </span></span>"
   ]
  },
  {
   "cell_type": "code",
   "execution_count": 23,
   "id": "210be665",
   "metadata": {},
   "outputs": [
    {
     "data": {
      "text/html": [
       "<div>\n",
       "<style scoped>\n",
       "    .dataframe tbody tr th:only-of-type {\n",
       "        vertical-align: middle;\n",
       "    }\n",
       "\n",
       "    .dataframe tbody tr th {\n",
       "        vertical-align: top;\n",
       "    }\n",
       "\n",
       "    .dataframe thead th {\n",
       "        text-align: right;\n",
       "    }\n",
       "</style>\n",
       "<table border=\"1\" class=\"dataframe\">\n",
       "  <thead>\n",
       "    <tr style=\"text-align: right;\">\n",
       "      <th></th>\n",
       "      <th>previous_yes</th>\n",
       "      <th>previous_no</th>\n",
       "    </tr>\n",
       "  </thead>\n",
       "  <tbody>\n",
       "    <tr>\n",
       "      <th>count</th>\n",
       "      <td>5289.000000</td>\n",
       "      <td>39922.000000</td>\n",
       "    </tr>\n",
       "    <tr>\n",
       "      <th>mean</th>\n",
       "      <td>1.170354</td>\n",
       "      <td>0.502154</td>\n",
       "    </tr>\n",
       "    <tr>\n",
       "      <th>std</th>\n",
       "      <td>2.553272</td>\n",
       "      <td>2.256771</td>\n",
       "    </tr>\n",
       "    <tr>\n",
       "      <th>min</th>\n",
       "      <td>0.000000</td>\n",
       "      <td>0.000000</td>\n",
       "    </tr>\n",
       "    <tr>\n",
       "      <th>25%</th>\n",
       "      <td>0.000000</td>\n",
       "      <td>0.000000</td>\n",
       "    </tr>\n",
       "    <tr>\n",
       "      <th>50%</th>\n",
       "      <td>0.000000</td>\n",
       "      <td>0.000000</td>\n",
       "    </tr>\n",
       "    <tr>\n",
       "      <th>75%</th>\n",
       "      <td>1.000000</td>\n",
       "      <td>0.000000</td>\n",
       "    </tr>\n",
       "    <tr>\n",
       "      <th>max</th>\n",
       "      <td>58.000000</td>\n",
       "      <td>275.000000</td>\n",
       "    </tr>\n",
       "  </tbody>\n",
       "</table>\n",
       "</div>"
      ],
      "text/plain": [
       "       previous_yes   previous_no\n",
       "count   5289.000000  39922.000000\n",
       "mean       1.170354      0.502154\n",
       "std        2.553272      2.256771\n",
       "min        0.000000      0.000000\n",
       "25%        0.000000      0.000000\n",
       "50%        0.000000      0.000000\n",
       "75%        1.000000      0.000000\n",
       "max       58.000000    275.000000"
      ]
     },
     "execution_count": 23,
     "metadata": {},
     "output_type": "execute_result"
    }
   ],
   "source": [
    "p_df = pd.DataFrame()\n",
    "p_df['previous_yes'] = (df[df['y'] == 'yes'][['y','previous']].describe())['previous']\n",
    "p_df['previous_no'] = (df[df['y'] == 'no'][['y','previous']].describe())['previous']\n",
    "\n",
    "p_df"
   ]
  },
  {
   "cell_type": "code",
   "execution_count": 24,
   "id": "f0c01cde",
   "metadata": {},
   "outputs": [
    {
     "data": {
      "text/plain": [
       "<AxesSubplot:title={'center':'Number of contacts performed during previous campaign and New Customers statistics'}>"
      ]
     },
     "execution_count": 24,
     "metadata": {},
     "output_type": "execute_result"
    },
    {
     "data": {
      "image/png": "[encoded data removed]",
      "text/plain": [
       "<Figure size 864x576 with 1 Axes>"
      ]
     },
     "metadata": {},
     "output_type": "display_data"
    }
   ],
   "source": [
    "p_df.drop(['count', '25%', '50%', '75%']).plot.bar(title = 'Number of contacts performed during previous campaign and New Customers statistics')"
   ]
  },
  {
   "cell_type": "markdown",
   "id": "4adb9ac2",
   "metadata": {},
   "source": [
    "# <span style=\"font-family:Times New Roman\"> Conclusion</span>\n",
    "<p style=\"font-size:20px\"><span style=\"font-family:Times New Roman\"> Looking at the diagrams above we can conclude that:</span></p>\n",
    "\n",
    "<p style=\"font-size:20px\"><span style=\"font-family:Times New Roman\">* People who Joined as a New Customer tend to have greater balance and age values.</span></p>\n",
    "<p style=\"font-size:20px\"><span style=\"font-family:Times New Roman\">* People who Joined as a New Customer tend to have fewer number of contacts during this campaign.</span></p>"
   ]
  },
  {
   "cell_type": "markdown",
   "id": "26b7ba18",
   "metadata": {},
   "source": [
    "***"
   ]
  },
  {
   "cell_type": "markdown",
   "id": "6e2320f0",
   "metadata": {},
   "source": [
    "# <span style=\"font-family:Times New Roman\"> Data Cleaning</span>"
   ]
  },
  {
   "cell_type": "markdown",
   "id": "eecd5a24",
   "metadata": {},
   "source": [
    "<p style=\"font-size:20px\"><span style=\"font-family:Times New Roman\"> Before applying machine learning techniques, we should prepare the dataset for processing:</span></p>\n",
    "\n",
    "<p style=\"font-size:20px\"><span style=\"font-family:Times New Roman\">* Convert columns with 'yes' and 'no' values to boolean columns;</span></p>\n",
    "<p style=\"font-size:20px\"><span style=\"font-family:Times New Roman\">* Convert categorical columns into dummy variables.</span></p>"
   ]
  },
  {
   "cell_type": "code",
   "execution_count": 25,
   "id": "d28bd8fa",
   "metadata": {},
   "outputs": [],
   "source": [
    "def get_dummy_from_bool(row, column_name):\n",
    "    ''' Returns 0 if value in column_name is no, returns 1 if value in column_name is yes'''\n",
    "    return 1 if row[column_name] == 'yes' else 0\n",
    "\n",
    "def get_correct_values(row, column_name, threshold, df):\n",
    "    ''' Returns mean value if value in column_name is above threshold'''\n",
    "    if row[column_name] <= threshold:\n",
    "        return row[column_name]\n",
    "    else:\n",
    "        mean = df[df[column_name] <= threshold][column_name].mean()\n",
    "        return mean\n",
    "\n",
    "def clean_data(df):\n",
    "    '''\n",
    "    INPUT\n",
    "    df - pandas dataframe containing bank marketing campaign dataset\n",
    "    \n",
    "    OUTPUT\n",
    "    df - cleaned dataset:\n",
    "    1. columns with 'yes' and 'no' values are converted into boolean variables;\n",
    "    2. categorical columns are converted into dummy variables;\n",
    "    3. drop irrelevant columns.\n",
    "    4. impute incorrect values\n",
    "    '''\n",
    "    \n",
    "    cleaned_df = df.copy()\n",
    "    \n",
    "    #convert columns containing 'yes' and 'no' values to boolean variables and drop original columns\n",
    "    bool_columns = ['default', 'housing', 'loan', 'y']\n",
    "    for bool_col in bool_columns:\n",
    "        cleaned_df[bool_col + '_bool'] = df.apply(lambda row: get_dummy_from_bool(row, bool_col),axis=1)\n",
    "    \n",
    "    cleaned_df = cleaned_df.drop(columns = bool_columns)\n",
    "    \n",
    "    #convert categorical columns to dummies\n",
    "    cat_columns = ['job', 'marital', 'education', 'contact', 'month', 'poutcome']\n",
    "    \n",
    "    for col in  cat_columns:\n",
    "        cleaned_df = pd.concat([cleaned_df.drop(col, axis=1),\n",
    "                                pd.get_dummies(cleaned_df[col], prefix=col, prefix_sep='_',\n",
    "                                               drop_first=True, dummy_na=False)], axis=1)\n",
    "    \n",
    "    #drop irrelevant columns\n",
    "    cleaned_df = cleaned_df.drop(columns = ['pdays'])\n",
    "    \n",
    "    #impute incorrect values and drop original columns\n",
    "    cleaned_df['campaign_cleaned'] = df.apply(lambda row: get_correct_values(row, 'campaign', 34, cleaned_df),axis=1)\n",
    "    cleaned_df['previous_cleaned'] = df.apply(lambda row: get_correct_values(row, 'previous', 34, cleaned_df),axis=1)\n",
    "    \n",
    "    cleaned_df = cleaned_df.drop(columns = ['campaign', 'previous'])\n",
    "    \n",
    "    return cleaned_df\n"
   ]
  },
  {
   "cell_type": "markdown",
   "id": "f62d50e1",
   "metadata": {},
   "source": [
    "# <span style=\"font-family:Times New Roman\">Cleaning DataSet</span>"
   ]
  },
  {
   "cell_type": "code",
   "execution_count": 26,
   "id": "c16f2c5e",
   "metadata": {},
   "outputs": [
    {
     "data": {
      "text/html": [
       "<div>\n",
       "<style scoped>\n",
       "    .dataframe tbody tr th:only-of-type {\n",
       "        vertical-align: middle;\n",
       "    }\n",
       "\n",
       "    .dataframe tbody tr th {\n",
       "        vertical-align: top;\n",
       "    }\n",
       "\n",
       "    .dataframe thead th {\n",
       "        text-align: right;\n",
       "    }\n",
       "</style>\n",
       "<table border=\"1\" class=\"dataframe\">\n",
       "  <thead>\n",
       "    <tr style=\"text-align: right;\">\n",
       "      <th></th>\n",
       "      <th>age</th>\n",
       "      <th>balance</th>\n",
       "      <th>day</th>\n",
       "      <th>duration</th>\n",
       "      <th>default_bool</th>\n",
       "      <th>housing_bool</th>\n",
       "      <th>loan_bool</th>\n",
       "      <th>y_bool</th>\n",
       "      <th>job_blue-collar</th>\n",
       "      <th>job_entrepreneur</th>\n",
       "      <th>job_housemaid</th>\n",
       "      <th>job_management</th>\n",
       "      <th>job_retired</th>\n",
       "      <th>job_self-employed</th>\n",
       "      <th>job_services</th>\n",
       "      <th>job_student</th>\n",
       "      <th>job_technician</th>\n",
       "      <th>job_unemployed</th>\n",
       "      <th>job_unknown</th>\n",
       "      <th>marital_married</th>\n",
       "      <th>marital_single</th>\n",
       "      <th>education_secondary</th>\n",
       "      <th>education_tertiary</th>\n",
       "      <th>education_unknown</th>\n",
       "      <th>contact_telephone</th>\n",
       "      <th>contact_unknown</th>\n",
       "      <th>month_aug</th>\n",
       "      <th>month_dec</th>\n",
       "      <th>month_feb</th>\n",
       "      <th>month_jan</th>\n",
       "      <th>month_jul</th>\n",
       "      <th>month_jun</th>\n",
       "      <th>month_mar</th>\n",
       "      <th>month_may</th>\n",
       "      <th>month_nov</th>\n",
       "      <th>month_oct</th>\n",
       "      <th>month_sep</th>\n",
       "      <th>poutcome_other</th>\n",
       "      <th>poutcome_success</th>\n",
       "      <th>poutcome_unknown</th>\n",
       "      <th>campaign_cleaned</th>\n",
       "      <th>previous_cleaned</th>\n",
       "    </tr>\n",
       "  </thead>\n",
       "  <tbody>\n",
       "    <tr>\n",
       "      <th>0</th>\n",
       "      <td>58</td>\n",
       "      <td>2143</td>\n",
       "      <td>5</td>\n",
       "      <td>261</td>\n",
       "      <td>0</td>\n",
       "      <td>1</td>\n",
       "      <td>0</td>\n",
       "      <td>0</td>\n",
       "      <td>0</td>\n",
       "      <td>0</td>\n",
       "      <td>0</td>\n",
       "      <td>1</td>\n",
       "      <td>0</td>\n",
       "      <td>0</td>\n",
       "      <td>0</td>\n",
       "      <td>0</td>\n",
       "      <td>0</td>\n",
       "      <td>0</td>\n",
       "      <td>0</td>\n",
       "      <td>1</td>\n",
       "      <td>0</td>\n",
       "      <td>0</td>\n",
       "      <td>1</td>\n",
       "      <td>0</td>\n",
       "      <td>0</td>\n",
       "      <td>1</td>\n",
       "      <td>0</td>\n",
       "      <td>0</td>\n",
       "      <td>0</td>\n",
       "      <td>0</td>\n",
       "      <td>0</td>\n",
       "      <td>0</td>\n",
       "      <td>0</td>\n",
       "      <td>1</td>\n",
       "      <td>0</td>\n",
       "      <td>0</td>\n",
       "      <td>0</td>\n",
       "      <td>0</td>\n",
       "      <td>0</td>\n",
       "      <td>1</td>\n",
       "      <td>1.0</td>\n",
       "      <td>0.0</td>\n",
       "    </tr>\n",
       "    <tr>\n",
       "      <th>1</th>\n",
       "      <td>44</td>\n",
       "      <td>29</td>\n",
       "      <td>5</td>\n",
       "      <td>151</td>\n",
       "      <td>0</td>\n",
       "      <td>1</td>\n",
       "      <td>0</td>\n",
       "      <td>0</td>\n",
       "      <td>0</td>\n",
       "      <td>0</td>\n",
       "      <td>0</td>\n",
       "      <td>0</td>\n",
       "      <td>0</td>\n",
       "      <td>0</td>\n",
       "      <td>0</td>\n",
       "      <td>0</td>\n",
       "      <td>1</td>\n",
       "      <td>0</td>\n",
       "      <td>0</td>\n",
       "      <td>0</td>\n",
       "      <td>1</td>\n",
       "      <td>1</td>\n",
       "      <td>0</td>\n",
       "      <td>0</td>\n",
       "      <td>0</td>\n",
       "      <td>1</td>\n",
       "      <td>0</td>\n",
       "      <td>0</td>\n",
       "      <td>0</td>\n",
       "      <td>0</td>\n",
       "      <td>0</td>\n",
       "      <td>0</td>\n",
       "      <td>0</td>\n",
       "      <td>1</td>\n",
       "      <td>0</td>\n",
       "      <td>0</td>\n",
       "      <td>0</td>\n",
       "      <td>0</td>\n",
       "      <td>0</td>\n",
       "      <td>1</td>\n",
       "      <td>1.0</td>\n",
       "      <td>0.0</td>\n",
       "    </tr>\n",
       "    <tr>\n",
       "      <th>2</th>\n",
       "      <td>33</td>\n",
       "      <td>2</td>\n",
       "      <td>5</td>\n",
       "      <td>76</td>\n",
       "      <td>0</td>\n",
       "      <td>1</td>\n",
       "      <td>1</td>\n",
       "      <td>0</td>\n",
       "      <td>0</td>\n",
       "      <td>1</td>\n",
       "      <td>0</td>\n",
       "      <td>0</td>\n",
       "      <td>0</td>\n",
       "      <td>0</td>\n",
       "      <td>0</td>\n",
       "      <td>0</td>\n",
       "      <td>0</td>\n",
       "      <td>0</td>\n",
       "      <td>0</td>\n",
       "      <td>1</td>\n",
       "      <td>0</td>\n",
       "      <td>1</td>\n",
       "      <td>0</td>\n",
       "      <td>0</td>\n",
       "      <td>0</td>\n",
       "      <td>1</td>\n",
       "      <td>0</td>\n",
       "      <td>0</td>\n",
       "      <td>0</td>\n",
       "      <td>0</td>\n",
       "      <td>0</td>\n",
       "      <td>0</td>\n",
       "      <td>0</td>\n",
       "      <td>1</td>\n",
       "      <td>0</td>\n",
       "      <td>0</td>\n",
       "      <td>0</td>\n",
       "      <td>0</td>\n",
       "      <td>0</td>\n",
       "      <td>1</td>\n",
       "      <td>1.0</td>\n",
       "      <td>0.0</td>\n",
       "    </tr>\n",
       "    <tr>\n",
       "      <th>3</th>\n",
       "      <td>47</td>\n",
       "      <td>1506</td>\n",
       "      <td>5</td>\n",
       "      <td>92</td>\n",
       "      <td>0</td>\n",
       "      <td>1</td>\n",
       "      <td>0</td>\n",
       "      <td>0</td>\n",
       "      <td>1</td>\n",
       "      <td>0</td>\n",
       "      <td>0</td>\n",
       "      <td>0</td>\n",
       "      <td>0</td>\n",
       "      <td>0</td>\n",
       "      <td>0</td>\n",
       "      <td>0</td>\n",
       "      <td>0</td>\n",
       "      <td>0</td>\n",
       "      <td>0</td>\n",
       "      <td>1</td>\n",
       "      <td>0</td>\n",
       "      <td>0</td>\n",
       "      <td>0</td>\n",
       "      <td>1</td>\n",
       "      <td>0</td>\n",
       "      <td>1</td>\n",
       "      <td>0</td>\n",
       "      <td>0</td>\n",
       "      <td>0</td>\n",
       "      <td>0</td>\n",
       "      <td>0</td>\n",
       "      <td>0</td>\n",
       "      <td>0</td>\n",
       "      <td>1</td>\n",
       "      <td>0</td>\n",
       "      <td>0</td>\n",
       "      <td>0</td>\n",
       "      <td>0</td>\n",
       "      <td>0</td>\n",
       "      <td>1</td>\n",
       "      <td>1.0</td>\n",
       "      <td>0.0</td>\n",
       "    </tr>\n",
       "    <tr>\n",
       "      <th>4</th>\n",
       "      <td>33</td>\n",
       "      <td>1</td>\n",
       "      <td>5</td>\n",
       "      <td>198</td>\n",
       "      <td>0</td>\n",
       "      <td>0</td>\n",
       "      <td>0</td>\n",
       "      <td>0</td>\n",
       "      <td>0</td>\n",
       "      <td>0</td>\n",
       "      <td>0</td>\n",
       "      <td>0</td>\n",
       "      <td>0</td>\n",
       "      <td>0</td>\n",
       "      <td>0</td>\n",
       "      <td>0</td>\n",
       "      <td>0</td>\n",
       "      <td>0</td>\n",
       "      <td>1</td>\n",
       "      <td>0</td>\n",
       "      <td>1</td>\n",
       "      <td>0</td>\n",
       "      <td>0</td>\n",
       "      <td>1</td>\n",
       "      <td>0</td>\n",
       "      <td>1</td>\n",
       "      <td>0</td>\n",
       "      <td>0</td>\n",
       "      <td>0</td>\n",
       "      <td>0</td>\n",
       "      <td>0</td>\n",
       "      <td>0</td>\n",
       "      <td>0</td>\n",
       "      <td>1</td>\n",
       "      <td>0</td>\n",
       "      <td>0</td>\n",
       "      <td>0</td>\n",
       "      <td>0</td>\n",
       "      <td>0</td>\n",
       "      <td>1</td>\n",
       "      <td>1.0</td>\n",
       "      <td>0.0</td>\n",
       "    </tr>\n",
       "  </tbody>\n",
       "</table>\n",
       "</div>"
      ],
      "text/plain": [
       "   age  balance  day  duration  default_bool  housing_bool  loan_bool  y_bool  \\\n",
       "0   58     2143    5       261             0             1          0       0   \n",
       "1   44       29    5       151             0             1          0       0   \n",
       "2   33        2    5        76             0             1          1       0   \n",
       "3   47     1506    5        92             0             1          0       0   \n",
       "4   33        1    5       198             0             0          0       0   \n",
       "\n",
       "   job_blue-collar  job_entrepreneur  job_housemaid  job_management  \\\n",
       "0                0                 0              0               1   \n",
       "1                0                 0              0               0   \n",
       "2                0                 1              0               0   \n",
       "3                1                 0              0               0   \n",
       "4                0                 0              0               0   \n",
       "\n",
       "   job_retired  job_self-employed  job_services  job_student  job_technician  \\\n",
       "0            0                  0             0            0               0   \n",
       "1            0                  0             0            0               1   \n",
       "2            0                  0             0            0               0   \n",
       "3            0                  0             0            0               0   \n",
       "4            0                  0             0            0               0   \n",
       "\n",
       "   job_unemployed  job_unknown  marital_married  marital_single  \\\n",
       "0               0            0                1               0   \n",
       "1               0            0                0               1   \n",
       "2               0            0                1               0   \n",
       "3               0            0                1               0   \n",
       "4               0            1                0               1   \n",
       "\n",
       "   education_secondary  education_tertiary  education_unknown  \\\n",
       "0                    0                   1                  0   \n",
       "1                    1                   0                  0   \n",
       "2                    1                   0                  0   \n",
       "3                    0                   0                  1   \n",
       "4                    0                   0                  1   \n",
       "\n",
       "   contact_telephone  contact_unknown  month_aug  month_dec  month_feb  \\\n",
       "0                  0                1          0          0          0   \n",
       "1                  0                1          0          0          0   \n",
       "2                  0                1          0          0          0   \n",
       "3                  0                1          0          0          0   \n",
       "4                  0                1          0          0          0   \n",
       "\n",
       "   month_jan  month_jul  month_jun  month_mar  month_may  month_nov  \\\n",
       "0          0          0          0          0          1          0   \n",
       "1          0          0          0          0          1          0   \n",
       "2          0          0          0          0          1          0   \n",
       "3          0          0          0          0          1          0   \n",
       "4          0          0          0          0          1          0   \n",
       "\n",
       "   month_oct  month_sep  poutcome_other  poutcome_success  poutcome_unknown  \\\n",
       "0          0          0               0                 0                 1   \n",
       "1          0          0               0                 0                 1   \n",
       "2          0          0               0                 0                 1   \n",
       "3          0          0               0                 0                 1   \n",
       "4          0          0               0                 0                 1   \n",
       "\n",
       "   campaign_cleaned  previous_cleaned  \n",
       "0               1.0               0.0  \n",
       "1               1.0               0.0  \n",
       "2               1.0               0.0  \n",
       "3               1.0               0.0  \n",
       "4               1.0               0.0  "
      ]
     },
     "execution_count": 26,
     "metadata": {},
     "output_type": "execute_result"
    }
   ],
   "source": [
    "cleaned_df = clean_data(df)\n",
    "cleaned_df.head()"
   ]
  },
  {
   "cell_type": "markdown",
   "id": "6d6fa1cb",
   "metadata": {},
   "source": [
    "***"
   ]
  },
  {
   "cell_type": "markdown",
   "id": "d4370658",
   "metadata": {},
   "source": [
    "#  <span style=\"font-family:Times New Roman\">Machine Learning for prediction of campaign outcome</span>"
   ]
  },
  {
   "cell_type": "markdown",
   "id": "b9be011d",
   "metadata": {},
   "source": [
    "<p style=\"font-size:25px\"><span style=\"font-family:Times New Roman\"> Classification model for the campaign outcome prediction </span></p>"
   ]
  },
  {
   "cell_type": "markdown",
   "id": "ee3b35e2",
   "metadata": {},
   "source": [
    "<p style=\"font-size:18px\"><span style=\"font-family:Times New Roman\"> Now let's use our cleaned datasets for prediction of the campaign outcome with help of machine learning classification models. I will use <span style=\"color:brown\"><b>XGBoost,</b></span> which is one of the most common machine learning libraries for modelling.\n",
    "Resulting model will also help me to understand, which features have the greatest importance for the prediction of the results of the Campaign.</span></p>"
   ]
  },
  {
   "cell_type": "markdown",
   "id": "5e6c3974",
   "metadata": {},
   "source": [
    "<p style=\"font-size:20px\"><span style=\"font-family:Times New Roman\">Creating X and y datasets for training the model and spliting it into train and test datasets.</span></p>"
   ]
  },
  {
   "cell_type": "code",
   "execution_count": 27,
   "id": "aa049175",
   "metadata": {},
   "outputs": [],
   "source": [
    "import xgboost"
   ]
  },
  {
   "cell_type": "code",
   "execution_count": 28,
   "id": "de93540d",
   "metadata": {},
   "outputs": [],
   "source": [
    "X = cleaned_df.drop(columns = 'y_bool')\n",
    "y = cleaned_df[['y_bool']]"
   ]
  },
  {
   "cell_type": "code",
   "execution_count": 29,
   "id": "9b220f62",
   "metadata": {},
   "outputs": [],
   "source": [
    "TEST_SIZE = 0.3\n",
    "RAND_STATE = 42"
   ]
  },
  {
   "cell_type": "code",
   "execution_count": 30,
   "id": "724813cd",
   "metadata": {},
   "outputs": [],
   "source": [
    "X_train, X_test, y_train, y_test = train_test_split(X, y, test_size = TEST_SIZE, random_state=RAND_STATE)"
   ]
  },
  {
   "cell_type": "markdown",
   "id": "6aa10bfa",
   "metadata": {},
   "source": [
    "***"
   ]
  },
  {
   "cell_type": "markdown",
   "id": "c4700a71",
   "metadata": {},
   "source": [
    "<p style=\"font-size:20px\"><span style=\"font-family:Times New Roman\"> Train XGBoost classifier model:</span></p>"
   ]
  },
  {
   "cell_type": "code",
   "execution_count": 31,
   "id": "f98f9a9f",
   "metadata": {},
   "outputs": [
    {
     "name": "stdout",
     "output_type": "stream",
     "text": [
      "[10:00:15] WARNING: C:/Users/Administrator/workspace/xgboost-win64_release_1.5.1/src/learner.cc:1115: Starting in XGBoost 1.3.0, the default evaluation metric used with the objective 'binary:logistic' was changed from 'error' to 'logloss'. Explicitly set eval_metric if you'd like to restore the old behavior.\n",
      "XGB accuracy score for train: 0.937: test: 0.906\n"
     ]
    }
   ],
   "source": [
    "xgb = xgboost.XGBClassifier(n_estimators=100, learning_rate=0.08, gamma=0, subsample=0.75,\n",
    "                           colsample_bytree=1, max_depth=7)\n",
    "xgb.fit(X_train,y_train.squeeze().values)\n",
    "\n",
    "#calculate and print scores for the model for top 15 features\n",
    "y_train_preds = xgb.predict(X_train)\n",
    "y_test_preds = xgb.predict(X_test)\n",
    "\n",
    "print('XGB accuracy score for train: %.3f: test: %.3f' % (\n",
    "        accuracy_score(y_train, y_train_preds),\n",
    "        accuracy_score(y_test, y_test_preds)))\n"
   ]
  },
  {
   "cell_type": "markdown",
   "id": "d445a9cf",
   "metadata": {},
   "source": [
    "***"
   ]
  },
  {
   "cell_type": "markdown",
   "id": "d7af2d4b",
   "metadata": {},
   "source": [
    "<p style=\"font-size:20px\"><span style=\"font-family:Times New Roman\"> Getting Features importances from the train model</span></p>"
   ]
  },
  {
   "cell_type": "code",
   "execution_count": 32,
   "id": "fed9abd4",
   "metadata": {},
   "outputs": [
    {
     "data": {
      "image/png": "[encoded data removed]",
      "text/plain": [
       "<Figure size 864x576 with 1 Axes>"
      ]
     },
     "metadata": {},
     "output_type": "display_data"
    }
   ],
   "source": [
    "headers = [\"name\", \"score\"]\n",
    "values = sorted(zip(X_train.columns, xgb.feature_importances_), key=lambda x: x[1] * -1)\n",
    "xgb_feature_importances = pd.DataFrame(values, columns = headers)\n",
    "\n",
    "#plot feature importances\n",
    "x_pos = np.arange(0, len(xgb_feature_importances))\n",
    "plt.bar(x_pos, xgb_feature_importances['score'])\n",
    "plt.xticks(x_pos, xgb_feature_importances['name'])\n",
    "plt.xticks(rotation=90)\n",
    "plt.title('Feature importances (XGB)')\n",
    "\n",
    "plt.show()"
   ]
  },
  {
   "cell_type": "markdown",
   "id": "fb56a91b",
   "metadata": {},
   "source": [
    "## <span style=\"font-family:Times New Roman\"> As we can see from the diagram showing feature importances, the most important features are:<span>\n",
    "\n",
    "<p style=\"font-size:20px\"><span style=\"font-family:Times New Roman\">*  Customer's account balance <span></p>\n",
    "<p style=\"font-size:20px\"><span style=\"font-family:Times New Roman\">* Customer's age <span></p>\n",
    "<p style=\"font-size:20px\"><span style=\"font-family:Times New Roman\">* Number of contacts performed during this campaign and contact duration <span></p>\n",
    "<p style=\"font-size:20px\"><span style=\"font-family:Times New Roman\">* Number of contacts performed before this campaign.<span></p>"
   ]
  },
  {
   "cell_type": "markdown",
   "id": "1555b5e8",
   "metadata": {},
   "source": [
    "## <span style=\"font-family:Times New Roman\">So the main outcome of the modelling are:</span>\n",
    "\n",
    "<p style=\"font-size:20px\"><span style=\"font-family:Times New Roman\">* Customers of greater age are more likely to become a new customer by joining the bank.</span></p>\n",
    "<p style=\"font-size:20px\"><span style=\"font-family:Times New Roman\">* Customers with greater account balance are more likely to become a new customer.</span></p>\n",
    "<p style=\"font-size:20px\"><span style=\"font-family:Times New Roman\">* Number of contacts with the customers really matters. Too many contacts with the customer could make him decline the offer.</span></p>"
   ]
  },
  {
   "cell_type": "markdown",
   "id": "f0602cad",
   "metadata": {},
   "source": [
    "***"
   ]
  },
  {
   "cell_type": "markdown",
   "id": "a02d3967",
   "metadata": {},
   "source": [
    "<p style=\"font-size:20px\"><span style=\"font-family:Times New Roman\"> Let's try to make some specific recommendations:<br>By finding out account balance, and which marketing campaign we should focus on:</span></p>"
   ]
  },
  {
   "cell_type": "code",
   "execution_count": 33,
   "id": "87f33cb5",
   "metadata": {},
   "outputs": [
    {
     "data": {
      "image/png": "[encoded data removed]",
      "text/plain": [
       "<Figure size 864x576 with 1 Axes>"
      ]
     },
     "metadata": {},
     "output_type": "display_data"
    }
   ],
   "source": [
    "df_new = cleaned_df.copy()\n",
    "\n",
    "#introduce new column 'balance_buckets' to  ''\n",
    "df_new['balance_buckets'] = pd.qcut(df_new['balance'], 50, labels=False, duplicates = 'drop')\n",
    "\n",
    "#group by 'balance_buckets' and find average campaign outcome per balance bucket\n",
    "mean_deposit = df_new.groupby(['balance_buckets'])['y_bool'].mean()\n",
    "\n",
    "#plot\n",
    "plt.plot(mean_deposit.index, mean_deposit.values)\n",
    "plt.title('Mean % New Customers Joining on account balance')\n",
    "plt.xlabel('balance bucket')\n",
    "plt.ylabel('% New Customers ')\n",
    "plt.show()"
   ]
  },
  {
   "cell_type": "code",
   "execution_count": 34,
   "id": "d5029df3",
   "metadata": {},
   "outputs": [
    {
     "data": {
      "text/plain": [
       "1362"
      ]
     },
     "execution_count": 34,
     "metadata": {},
     "output_type": "execute_result"
    }
   ],
   "source": [
    "df_new[df_new['balance_buckets'] == 34]['balance'].min()"
   ]
  },
  {
   "cell_type": "markdown",
   "id": "2213e45d",
   "metadata": {},
   "source": [
    "## <span style=\"font-family:Times New Roman\"> Conclusion</span>\n",
    "<p style=\"font-size:20px\"><span style=\"font-family:Times New Roman\"> From the above diagram we can conclude, that marketing campaigns should concentrate on New customers with account balance greater than $1362. </span></p>"
   ]
  },
  {
   "cell_type": "markdown",
   "id": "2afde053",
   "metadata": {},
   "source": [
    "***"
   ]
  },
  {
   "cell_type": "code",
   "execution_count": 35,
   "id": "c721c34c",
   "metadata": {},
   "outputs": [
    {
     "data": {
      "image/png": "[encoded data removed]",
      "text/plain": [
       "<Figure size 864x576 with 1 Axes>"
      ]
     },
     "metadata": {},
     "output_type": "display_data"
    }
   ],
   "source": [
    "#introduce new column 'age_buckets' to  ''\n",
    "df_new['age_buckets'] = pd.qcut(df_new['age'], 20, labels=False, duplicates = 'drop')\n",
    "\n",
    "#group by 'balance_buckets' and find average campaign outcome per balance bucket\n",
    "mean_age = df_new.groupby(['age_buckets'])['y_bool'].mean()\n",
    "\n",
    "#plot\n",
    "plt.plot(mean_age.index, mean_age.values)\n",
    "plt.title('Mean % New Customers Joining on age')\n",
    "plt.xlabel('age bucket')\n",
    "plt.ylabel('% New Customers')\n",
    "plt.show()"
   ]
  },
  {
   "cell_type": "code",
   "execution_count": 36,
   "id": "ba0e91f0",
   "metadata": {},
   "outputs": [
    {
     "data": {
      "text/plain": [
       "32"
      ]
     },
     "execution_count": 36,
     "metadata": {},
     "output_type": "execute_result"
    }
   ],
   "source": [
    "df_new[df_new['age_buckets'] == 3]['age'].max()"
   ]
  },
  {
   "cell_type": "code",
   "execution_count": 37,
   "id": "9c257df7",
   "metadata": {},
   "outputs": [
    {
     "data": {
      "text/plain": [
       "54"
      ]
     },
     "execution_count": 37,
     "metadata": {},
     "output_type": "execute_result"
    }
   ],
   "source": [
    "df_new[df_new['age_buckets'] == 17]['age'].min()"
   ]
  },
  {
   "cell_type": "markdown",
   "id": "e2d70f7f",
   "metadata": {},
   "source": [
    "## <span style=\"font-family:Times New Roman\"> Conclusion<span>\n",
    "<p style=\"font-size:20px\"><span style=\"font-family:Times New Roman\"> So we can see that the average New Customer rate tends to be higher for customers below 32 years old or above 54 years old.</span></p>"
   ]
  },
  {
   "cell_type": "markdown",
   "id": "893ab381",
   "metadata": {},
   "source": [
    "***"
   ]
  },
  {
   "cell_type": "markdown",
   "id": "a0cb397d",
   "metadata": {},
   "source": [
    "<p style=\"font-size:20px\"><span style=\"font-family:Times New Roman\"> Finding out appropriate number of contacts with New customers during the campaign:</span></p>"
   ]
  },
  {
   "cell_type": "code",
   "execution_count": 38,
   "id": "4539c806",
   "metadata": {},
   "outputs": [
    {
     "data": {
      "image/png": "[encoded data removed]",
      "text/plain": [
       "<Figure size 864x576 with 1 Axes>"
      ]
     },
     "metadata": {},
     "output_type": "display_data"
    }
   ],
   "source": [
    "#introduce new column 'age_buckets' to  ''\n",
    "df_new['campaign_buckets'] = pd.qcut(df_new['campaign_cleaned'], 20, labels=False, duplicates = 'drop')\n",
    "\n",
    "#group by 'balance_buckets' and find average campaign outcome per balance bucket\n",
    "mean_campaign = df_new.groupby(['campaign_buckets'])['y_bool'].mean()\n",
    "\n",
    "#plot average campaign outcome per bucket \n",
    "plt.plot(mean_campaign.index, mean_campaign.values)\n",
    "plt.title('Mean % New Customers joining depending on number of contacts')\n",
    "plt.xlabel('number of contacts bucket')\n",
    "plt.ylabel('% New Customers')\n",
    "plt.show()"
   ]
  },
  {
   "cell_type": "code",
   "execution_count": 39,
   "id": "e6f549ff",
   "metadata": {},
   "outputs": [
    {
     "data": {
      "text/plain": [
       "4.0"
      ]
     },
     "execution_count": 39,
     "metadata": {},
     "output_type": "execute_result"
    }
   ],
   "source": [
    "df_new[df_new['campaign_buckets'] == 2]['campaign_cleaned'].min()"
   ]
  },
  {
   "cell_type": "markdown",
   "id": "c5ed2297",
   "metadata": {},
   "source": [
    "## <span style=\"font-family:Times New Roman\"> Conclusion </span>\n",
    "<p style=\"font-size:20px\"><span style=\"font-family:Times New Roman\"> From the plot above we can see that average New customer rate is below 50% if the number of contacts during the campaign exceeds 4.</span></p>"
   ]
  },
  {
   "cell_type": "markdown",
   "id": "ad8a668c",
   "metadata": {},
   "source": [
    "***"
   ]
  },
  {
   "cell_type": "markdown",
   "id": "d63b58ae",
   "metadata": {},
   "source": [
    "# <span style=\"font-family:Times New Roman\"> Conclusion</span>"
   ]
  },
  {
   "cell_type": "markdown",
   "id": "09b23745",
   "metadata": {},
   "source": [
    "## <span style=\"font-family:Times New Roman\"><span style=\"color:blue\"><b>The key outcome of this analysis for future recommendations marketing campaign:</span></span><b>\n",
    "\n",
    "\n",
    "\n",
    "<p style=\"font-size:20px\"><span style=\"font-family:Times New Roman\"> 1.The customer's account balance has a huge influence on the campaign's outcome. People with account balance above $1362 are more likely to Join as a New Customer, so in the future we need to address these customers.</span></p>\n",
    "\n",
    "<p style=\"font-size:20px\"><span style=\"font-family:Times New Roman\"> 2.The customer's age also affects the campaign outcome as well. Future campaigns should concentrate on customers with age categories below 32 years old and above 54 years old.</span></p>\n",
    "\n",
    "<p style=\"font-size:20px\"><span style=\"font-family:Times New Roman\"> 3.Number of contacts with the customer during the campaign is also very important. The number of contacts with the customer   shouldn't exceed 4.</span></p>"
   ]
  },
  {
   "cell_type": "code",
   "execution_count": null,
   "id": "d71643cb",
   "metadata": {},
   "outputs": [],
   "source": []
  }
 ],
 "metadata": {
  "kernelspec": {
   "display_name": "Python 3 (ipykernel)",
   "language": "python",
   "name": "python3"
  },
  "language_info": {
   "codemirror_mode": {
    "name": "ipython",
    "version": 3
   },
   "file_extension": ".py",
   "mimetype": "text/x-python",
   "name": "python",
   "nbconvert_exporter": "python",
   "pygments_lexer": "ipython3",
   "version": "3.9.7"
  }
 },
 "nbformat": 4,
 "nbformat_minor": 5
}
